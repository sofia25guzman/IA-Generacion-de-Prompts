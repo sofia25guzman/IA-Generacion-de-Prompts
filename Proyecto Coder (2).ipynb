{
 "cells": [
  {
   "cell_type": "markdown",
   "id": "3ac149f9-155a-40d8-ac06-20f632327f31",
   "metadata": {},
   "source": [
    "1. Importamos dependencias"
   ]
  },
  {
   "cell_type": "code",
   "execution_count": 9,
   "id": "890a7837-6406-4ff6-95c5-e9490bb609c3",
   "metadata": {},
   "outputs": [],
   "source": [
    "import openai\n"
   ]
  },
  {
   "cell_type": "code",
   "execution_count": 10,
   "id": "c948593d-dbe3-4016-81d6-957c053d0fd5",
   "metadata": {},
   "outputs": [],
   "source": [
    "openai.api_key = \"API oculta\""
   ]
  },
  {
   "cell_type": "markdown",
   "id": "534f4ff3-a0b5-418e-b336-6c1a08d0297c",
   "metadata": {},
   "source": [
    "2. Requerimiento"
   ]
  },
  {
   "cell_type": "code",
   "execution_count": 11,
   "id": "07a80536-afc5-46e7-9d17-2c7ac12ac32e",
   "metadata": {},
   "outputs": [],
   "source": [
    "\n",
    "context = \"Eres un profesor de inglés que enseña a alumnos de habla hispana. Responde siempre en español\"\n",
    "\n",
    "\n",
    "prompt = \"\"\"\n",
    "Genera un ejercicio de vocabulario para un estudiante de nivel básico sobre cosas del hogar. \n",
    "Incluye una imagen simple relacionada con objetos comunes del hogar (como una mesa, silla, cama, etc.).\n",
    "El ejercicio debe consistir en identificar y relacionar la imagen con las palabras en inglés correspondientes.\n",
    "Limita el ejercicio a 150 tokens.\n",
    "\"\"\""
   ]
  },
  {
   "cell_type": "markdown",
   "id": "a2e42094-b363-44d3-90a3-523b26095b3b",
   "metadata": {},
   "source": [
    "3. Configuración"
   ]
  },
  {
   "cell_type": "code",
   "execution_count": 12,
   "id": "6e6d5ffd-5e47-472c-9f60-84ae075b36fe",
   "metadata": {},
   "outputs": [
    {
     "name": "stdout",
     "output_type": "stream",
     "text": [
      "assistant: ¡Claro! Aquí tienes tu ejercicio de vocabulario:\n",
      "\n",
      "Imagen: [Imagen de una cocina con una mesa, silla, cama y lámpara]\n",
      "\n",
      "- Escribe el nombre en inglés de los siguientes objetos del hogar:\n",
      "\n",
      "1. Bed = ____________\n",
      "2. Chair = ____________\n",
      "3. Table = ____________\n",
      "4. Lamp = ____________\n",
      "\n",
      "¡Espero que este ejercicio te resulte útil para practicar tu vocabulario en inglés relacionado con cosas del hogar! ¡Buena suerte!\n",
      "Imagen generada:  https://oaidalleapiprodscus.blob.core.windows.net/private/org-Uxl9zov4Rn9Jt89HWslw79vq/user-78dDIgoLZPRbfYUGPXya6oXl/img-mWsHvroEocTgXLjQ0ASh48v8.png?st=2025-02-21T22%3A48%3A17Z&se=2025-02-22T00%3A48%3A17Z&sp=r&sv=2024-08-04&sr=b&rscd=inline&rsct=image/png&skoid=d505667d-d6c1-4a0a-bac7-5c84a87759f8&sktid=a48cca56-e6da-484e-a814-9c849652bcb3&skt=2025-02-21T19%3A54%3A17Z&ske=2025-02-22T19%3A54%3A17Z&sks=b&skv=2024-08-04&sig=CMJq0MnYmE/88VIjV04KwNGqtKV0Qaww1jqrKsjZylk%3D\n"
     ]
    }
   ],
   "source": [
    "\n",
    "\n",
    "conversation = [\n",
    "    {\"role\": \"system\", \"content\": context},\n",
    "    {\"role\": \"user\", \"content\": prompt}\n",
    "]\n",
    "\n",
    "# Generación de la respuesta para el ejercicio de vocabulario\n",
    "response = openai.ChatCompletion.create(\n",
    "    model='gpt-3.5-turbo',\n",
    "    messages=conversation,\n",
    "    max_tokens=150\n",
    ")\n",
    "\n",
    "\n",
    "message = response.choices[0]['message']\n",
    "print(\"{}: {}\".format(message['role'], message['content']))\n",
    "\n",
    "#imagen con DALL·E\n",
    "image_prompt = \"Generate a simple image with common household objects like a table, chair, and bed.\"\n",
    "\n",
    "\n",
    "image_response = openai.Image.create(\n",
    "    prompt=image_prompt,\n",
    "    n=1,  # Número de imágenes a generar\n",
    "    size=\"1024x1024\"  # Tamaño de la imagen\n",
    ")\n",
    "\n",
    "#URL de la imagen generada\n",
    "image_url = image_response['data'][0]['url']\n",
    "print(\"Imagen generada: \", image_url)\n"
   ]
  },
  {
   "cell_type": "code",
   "execution_count": null,
   "id": "d2768535-6ad1-4f91-8284-6fcb5df87bfa",
   "metadata": {},
   "outputs": [],
   "source": []
  }
 ],
 "metadata": {
  "kernelspec": {
   "display_name": "Python 3 (ipykernel)",
   "language": "python",
   "name": "python3"
  },
  "language_info": {
   "codemirror_mode": {
    "name": "ipython",
    "version": 3
   },
   "file_extension": ".py",
   "mimetype": "text/x-python",
   "name": "python",
   "nbconvert_exporter": "python",
   "pygments_lexer": "ipython3",
   "version": "3.10.16"
  }
 },
 "nbformat": 4,
 "nbformat_minor": 5
}
